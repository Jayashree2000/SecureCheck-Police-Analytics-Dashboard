{
 "cells": [
  {
   "cell_type": "code",
   "execution_count": null,
   "id": "85e19b90",
   "metadata": {},
   "outputs": [],
   "source": [
    "#Reading the traffic excel file data in Pandas\n",
    "import pandas as pd\n",
    "\n",
    "read_file = pd.read_csv(r\"g:\\Guvi-Datascience\\Project\\Secure Check_Project 1\\traffic_stops - traffic_stops_with_vehicle_number.csv\")"
   ]
  },
  {
   "cell_type": "code",
   "execution_count": null,
   "id": "37db9c7c",
   "metadata": {},
   "outputs": [],
   "source": [
    "\n",
    "read_file.isnull().sum()"
   ]
  },
  {
   "cell_type": "code",
   "execution_count": null,
   "id": "b9be3e01",
   "metadata": {},
   "outputs": [],
   "source": [
    "#Filling the NAN Values\n",
    "read_file.fillna(\n",
    "    {\n",
    "        \"search_type\" : 'Unknown'\n",
    "    }, inplace = True\n",
    "\n",
    ")"
   ]
  },
  {
   "cell_type": "code",
   "execution_count": null,
   "id": "6accc529",
   "metadata": {},
   "outputs": [],
   "source": [
    "read_file.info()"
   ]
  },
  {
   "cell_type": "code",
   "execution_count": null,
   "id": "cc434d54",
   "metadata": {},
   "outputs": [],
   "source": [
    "#converting object data type of date and time into date datatype\n",
    "read_file['stop_date'] = pd.to_datetime(read_file['stop_date'], format='%d-%m-%Y', errors='coerce')\n",
    "read_file['stop_time'] = pd.to_datetime(read_file['stop_time'], format='%H:%M:%S', errors='coerce').dt.time\n"
   ]
  },
  {
   "cell_type": "code",
   "execution_count": null,
   "id": "c2881100",
   "metadata": {},
   "outputs": [],
   "source": [
    "#concatinate Date and Time as Timestamp\n",
    "read_file['stop_timestamp'] = pd.to_datetime(read_file['stop_date'].astype(str) + ' ' + read_file['stop_time'].astype(str),errors='coerce')"
   ]
  },
  {
   "cell_type": "code",
   "execution_count": null,
   "id": "f6d434bf",
   "metadata": {},
   "outputs": [],
   "source": [
    "#Mysql Connection\n",
    "import mysql.connector\n",
    "\n",
    "mydb=mysql.connector.connect(\n",
    "    host=\"localhost\",\n",
    "    user=\"root\",\n",
    "    password=\"Pugazh@08\",\n",
    "    database=\"police_db\"\n",
    ")"
   ]
  },
  {
   "cell_type": "code",
   "execution_count": null,
   "id": "350c8861",
   "metadata": {},
   "outputs": [],
   "source": [
    "mycursor=mydb.cursor(dictionary=True)"
   ]
  },
  {
   "cell_type": "code",
   "execution_count": null,
   "id": "7a4656c5",
   "metadata": {},
   "outputs": [],
   "source": [
    "mycursor.execute(\"Create database police_db;\")\n"
   ]
  },
  {
   "cell_type": "code",
   "execution_count": null,
   "id": "ffaf0a60",
   "metadata": {},
   "outputs": [],
   "source": [
    "mycursor.execute(\"Use police_db;\")"
   ]
  },
  {
   "cell_type": "code",
   "execution_count": null,
   "id": "a4bfc98d",
   "metadata": {},
   "outputs": [],
   "source": [
    "#Creating police_logs table on the Database police_db\n",
    "\n",
    "mycursor.execute(\"\"\"\n",
    "CREATE TABLE IF NOT EXISTS police_logs (\n",
    "    id INT AUTO_INCREMENT PRIMARY KEY,\n",
    "    stop_date DATE,\n",
    "    stop_time TIME,\n",
    "    country_name VARCHAR(100),\n",
    "    driver_gender VARCHAR(18),\n",
    "    driver_age INT,\n",
    "    driver_race VARCHAR(50),\n",
    "    violation VARCHAR(100),\n",
    "    search_conducted BOOLEAN,\n",
    "    search_type VARCHAR(100),\n",
    "    stop_outcome VARCHAR(100),\n",
    "    drugs_related_stop BOOLEAN,\n",
    "    stop_duration VARCHAR(50),\n",
    "    vehicle_number VARCHAR(50),\n",
    "    stop_timestamp DATETIME\n",
    ")\n",
    "\"\"\")"
   ]
  },
  {
   "cell_type": "code",
   "execution_count": null,
   "id": "1f82f1b6",
   "metadata": {},
   "outputs": [],
   "source": [
    "#inserting the Values into the table\n",
    "\n",
    "insert_query = \"\"\"\n",
    "INSERT INTO police_logs (\n",
    "    stop_date, stop_time, country_name, driver_gender, driver_age, driver_race,\n",
    "    violation, search_conducted, search_type, stop_outcome, drugs_related_stop,\n",
    "    stop_duration, vehicle_number, stop_timestamp\n",
    ")\n",
    "VALUES (%s, %s, %s, %s, %s, %s, %s, %s, %s, %s, %s, %s, %s, %s)\n",
    "\"\"\"\n",
    "\n",
    "for index, row in read_file.iterrows():\n",
    "    mycursor.execute(insert_query, (\n",
    "        row['stop_date'],\n",
    "        row['stop_time'],\n",
    "        row['country_name'],\n",
    "        row['driver_gender'],\n",
    "        row['driver_age'],\n",
    "        row['driver_race'],\n",
    "        row['violation'],\n",
    "        row['search_conducted'],\n",
    "        row['search_type'],\n",
    "        row['stop_outcome'],\n",
    "        row['drugs_related_stop'],\n",
    "        row['stop_duration'],\n",
    "        row['vehicle_number'],\n",
    "        row['stop_timestamp']\n",
    "    ))\n",
    "\n",
    "\n",
    "mydb.commit()\n",
    "mydb.close()\n"
   ]
  },
  {
   "cell_type": "code",
   "execution_count": null,
   "id": "64863e0d",
   "metadata": {},
   "outputs": [],
   "source": [
    "\n",
    "mycursor = mydb.cursor(dictionary=True)\n",
    "\n",
    "mycursor.execute(\"SELECT * FROM police_logs;\")\n",
    "rows = mycursor.fetchall()\n",
    "data = pd.DataFrame(rows)\n",
    "\n",
    "csv_count = len(read_file)\n",
    "database_data_count= len(data)\n",
    "\n",
    "print(f\"CSV record count: {csv_count}\")\n",
    "print(f\"Database record count: {database_data_count}\")\n",
    "\n",
    "mycursor.close()"
   ]
  }
 ],
 "metadata": {
  "kernelspec": {
   "display_name": "base",
   "language": "python",
   "name": "python3"
  },
  "language_info": {
   "codemirror_mode": {
    "name": "ipython",
    "version": 3
   },
   "file_extension": ".py",
   "mimetype": "text/x-python",
   "name": "python",
   "nbconvert_exporter": "python",
   "pygments_lexer": "ipython3",
   "version": "3.13.5"
  }
 },
 "nbformat": 4,
 "nbformat_minor": 5
}
